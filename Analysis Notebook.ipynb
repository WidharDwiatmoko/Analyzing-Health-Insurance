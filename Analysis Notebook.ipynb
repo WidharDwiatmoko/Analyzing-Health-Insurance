{
 "cells": [
  {
   "cell_type": "code",
   "execution_count": 3,
   "id": "4977a580",
   "metadata": {},
   "outputs": [],
   "source": [
    "import numpy as np\n",
    "import pandas as pd\n",
    "import matplotlib as plt\n",
    "import seaborn as sns"
   ]
  },
  {
   "cell_type": "code",
   "execution_count": 4,
   "id": "3a6e2f81",
   "metadata": {},
   "outputs": [],
   "source": [
    "X = pd.read_csv(\"insurance.csv\")"
   ]
  },
  {
   "cell_type": "code",
   "execution_count": 5,
   "id": "a2931763",
   "metadata": {},
   "outputs": [
    {
     "data": {
      "text/html": [
       "<div>\n",
       "<style scoped>\n",
       "    .dataframe tbody tr th:only-of-type {\n",
       "        vertical-align: middle;\n",
       "    }\n",
       "\n",
       "    .dataframe tbody tr th {\n",
       "        vertical-align: top;\n",
       "    }\n",
       "\n",
       "    .dataframe thead th {\n",
       "        text-align: right;\n",
       "    }\n",
       "</style>\n",
       "<table border=\"1\" class=\"dataframe\">\n",
       "  <thead>\n",
       "    <tr style=\"text-align: right;\">\n",
       "      <th></th>\n",
       "      <th>age</th>\n",
       "      <th>sex</th>\n",
       "      <th>bmi</th>\n",
       "      <th>children</th>\n",
       "      <th>smoker</th>\n",
       "      <th>region</th>\n",
       "      <th>charges</th>\n",
       "    </tr>\n",
       "  </thead>\n",
       "  <tbody>\n",
       "    <tr>\n",
       "      <th>0</th>\n",
       "      <td>19</td>\n",
       "      <td>female</td>\n",
       "      <td>27.900</td>\n",
       "      <td>0</td>\n",
       "      <td>yes</td>\n",
       "      <td>southwest</td>\n",
       "      <td>16884.92400</td>\n",
       "    </tr>\n",
       "    <tr>\n",
       "      <th>1</th>\n",
       "      <td>18</td>\n",
       "      <td>male</td>\n",
       "      <td>33.770</td>\n",
       "      <td>1</td>\n",
       "      <td>no</td>\n",
       "      <td>southeast</td>\n",
       "      <td>1725.55230</td>\n",
       "    </tr>\n",
       "    <tr>\n",
       "      <th>2</th>\n",
       "      <td>28</td>\n",
       "      <td>male</td>\n",
       "      <td>33.000</td>\n",
       "      <td>3</td>\n",
       "      <td>no</td>\n",
       "      <td>southeast</td>\n",
       "      <td>4449.46200</td>\n",
       "    </tr>\n",
       "    <tr>\n",
       "      <th>3</th>\n",
       "      <td>33</td>\n",
       "      <td>male</td>\n",
       "      <td>22.705</td>\n",
       "      <td>0</td>\n",
       "      <td>no</td>\n",
       "      <td>northwest</td>\n",
       "      <td>21984.47061</td>\n",
       "    </tr>\n",
       "    <tr>\n",
       "      <th>4</th>\n",
       "      <td>32</td>\n",
       "      <td>male</td>\n",
       "      <td>28.880</td>\n",
       "      <td>0</td>\n",
       "      <td>no</td>\n",
       "      <td>northwest</td>\n",
       "      <td>3866.85520</td>\n",
       "    </tr>\n",
       "  </tbody>\n",
       "</table>\n",
       "</div>"
      ],
      "text/plain": [
       "   age     sex     bmi  children smoker     region      charges\n",
       "0   19  female  27.900         0    yes  southwest  16884.92400\n",
       "1   18    male  33.770         1     no  southeast   1725.55230\n",
       "2   28    male  33.000         3     no  southeast   4449.46200\n",
       "3   33    male  22.705         0     no  northwest  21984.47061\n",
       "4   32    male  28.880         0     no  northwest   3866.85520"
      ]
     },
     "execution_count": 5,
     "metadata": {},
     "output_type": "execute_result"
    }
   ],
   "source": [
    "X.head()"
   ]
  },
  {
   "cell_type": "code",
   "execution_count": 6,
   "id": "d9050a44",
   "metadata": {},
   "outputs": [
    {
     "data": {
      "text/plain": [
       "age         0\n",
       "sex         0\n",
       "bmi         0\n",
       "children    0\n",
       "smoker      0\n",
       "region      0\n",
       "charges     0\n",
       "dtype: int64"
      ]
     },
     "execution_count": 6,
     "metadata": {},
     "output_type": "execute_result"
    }
   ],
   "source": [
    "X.isnull().sum()"
   ]
  },
  {
   "cell_type": "code",
   "execution_count": 7,
   "id": "650821fc",
   "metadata": {},
   "outputs": [
    {
     "data": {
      "text/plain": [
       "0       False\n",
       "1       False\n",
       "2       False\n",
       "3       False\n",
       "4       False\n",
       "        ...  \n",
       "1333    False\n",
       "1334    False\n",
       "1335    False\n",
       "1336    False\n",
       "1337    False\n",
       "Length: 1338, dtype: bool"
      ]
     },
     "execution_count": 7,
     "metadata": {},
     "output_type": "execute_result"
    }
   ],
   "source": [
    "X.duplicated()"
   ]
  },
  {
   "cell_type": "code",
   "execution_count": 8,
   "id": "3aedeead",
   "metadata": {},
   "outputs": [
    {
     "name": "stdout",
     "output_type": "stream",
     "text": [
      "<class 'pandas.core.frame.DataFrame'>\n",
      "RangeIndex: 1338 entries, 0 to 1337\n",
      "Data columns (total 7 columns):\n",
      " #   Column    Non-Null Count  Dtype  \n",
      "---  ------    --------------  -----  \n",
      " 0   age       1338 non-null   int64  \n",
      " 1   sex       1338 non-null   object \n",
      " 2   bmi       1338 non-null   float64\n",
      " 3   children  1338 non-null   int64  \n",
      " 4   smoker    1338 non-null   object \n",
      " 5   region    1338 non-null   object \n",
      " 6   charges   1338 non-null   float64\n",
      "dtypes: float64(2), int64(2), object(3)\n",
      "memory usage: 73.3+ KB\n"
     ]
    }
   ],
   "source": [
    "X.info()"
   ]
  },
  {
   "cell_type": "code",
   "execution_count": 9,
   "id": "33d04e9f",
   "metadata": {},
   "outputs": [],
   "source": [
    "df = X.copy()"
   ]
  },
  {
   "cell_type": "markdown",
   "id": "aac7c9bc",
   "metadata": {},
   "source": [
    "## Descriptive analysis"
   ]
  },
  {
   "cell_type": "markdown",
   "id": "ddede13a",
   "metadata": {},
   "source": [
    "1. Rata - Rata Umur pengguna"
   ]
  },
  {
   "cell_type": "code",
   "execution_count": 10,
   "id": "5a608a47",
   "metadata": {},
   "outputs": [
    {
     "data": {
      "text/plain": [
       "39.20702541106129"
      ]
     },
     "execution_count": 10,
     "metadata": {},
     "output_type": "execute_result"
    }
   ],
   "source": [
    "mean_age = df[\"age\"].mean()\n",
    "mean_age"
   ]
  },
  {
   "cell_type": "markdown",
   "id": "17360eaa",
   "metadata": {},
   "source": [
    "2. Apakah rata rata umur perempuan dan laki-laki yang merokok sama?"
   ]
  },
  {
   "cell_type": "code",
   "execution_count": 11,
   "id": "15a0b773",
   "metadata": {},
   "outputs": [
    {
     "data": {
      "text/plain": [
       "38.608695652173914"
      ]
     },
     "execution_count": 11,
     "metadata": {},
     "output_type": "execute_result"
    }
   ],
   "source": [
    "mean_female_age = df[(df[\"sex\"] == \"female\") & (df[\"smoker\"] == \"yes\")][\"age\"].mean()\n",
    "mean_female_age"
   ]
  },
  {
   "cell_type": "code",
   "execution_count": 12,
   "id": "4694b7c1",
   "metadata": {},
   "outputs": [
    {
     "data": {
      "text/plain": [
       "38.44654088050314"
      ]
     },
     "execution_count": 12,
     "metadata": {},
     "output_type": "execute_result"
    }
   ],
   "source": [
    "mean_male_age = df[(df[\"sex\"] == \"male\")& (df[\"smoker\"] == \"yes\")][\"age\"].mean()\n",
    "mean_male_age"
   ]
  },
  {
   "cell_type": "markdown",
   "id": "72946731",
   "metadata": {},
   "source": [
    "3. BMI mana yang lebih tinggi, seseorang laki-laki atau perempuan?"
   ]
  },
  {
   "cell_type": "code",
   "execution_count": 13,
   "id": "6ceffbe4",
   "metadata": {},
   "outputs": [
    {
     "data": {
      "text/plain": [
       "30.943128698224832"
      ]
     },
     "execution_count": 13,
     "metadata": {},
     "output_type": "execute_result"
    }
   ],
   "source": [
    "mean_male_bmi = df[df[\"sex\"] == \"male\"][\"bmi\"].mean()\n",
    "mean_male_bmi"
   ]
  },
  {
   "cell_type": "code",
   "execution_count": 14,
   "id": "c606534a",
   "metadata": {},
   "outputs": [
    {
     "data": {
      "text/plain": [
       "30.377749244713023"
      ]
     },
     "execution_count": 14,
     "metadata": {},
     "output_type": "execute_result"
    }
   ],
   "source": [
    "mean_female_bmi = df[df[\"sex\"] == \"female\"][\"bmi\"].mean()\n",
    "mean_female_bmi"
   ]
  },
  {
   "cell_type": "markdown",
   "id": "77a67fe2",
   "metadata": {},
   "source": [
    "4. BMI mana yang lebih tinggi, seseorang perokok atau non perokok?"
   ]
  },
  {
   "cell_type": "code",
   "execution_count": 15,
   "id": "84142cd4",
   "metadata": {},
   "outputs": [
    {
     "data": {
      "text/plain": [
       "30.708448905109503"
      ]
     },
     "execution_count": 15,
     "metadata": {},
     "output_type": "execute_result"
    }
   ],
   "source": [
    "mean_smoker_bmi = df[df[\"smoker\"] == \"yes\"][\"bmi\"].mean()\n",
    "mean_smoker_bmi"
   ]
  },
  {
   "cell_type": "code",
   "execution_count": 16,
   "id": "6d4869c2",
   "metadata": {},
   "outputs": [
    {
     "data": {
      "text/plain": [
       "30.651795112781922"
      ]
     },
     "execution_count": 16,
     "metadata": {},
     "output_type": "execute_result"
    }
   ],
   "source": [
    "mean_nonsmoker_bmi = df[df[\"smoker\"] == \"no\"][\"bmi\"].mean()\n",
    "mean_nonsmoker_bmi"
   ]
  },
  {
   "cell_type": "markdown",
   "id": "2a21a705",
   "metadata": {},
   "source": [
    "5. Mana yang lebih tinggi, rata rata tagihan kesehatan perokok atau non merokok?"
   ]
  },
  {
   "cell_type": "code",
   "execution_count": 17,
   "id": "d6a50ffe",
   "metadata": {},
   "outputs": [
    {
     "data": {
      "text/plain": [
       "32050.23183153285"
      ]
     },
     "execution_count": 17,
     "metadata": {},
     "output_type": "execute_result"
    }
   ],
   "source": [
    "mean_smoker_charges = df[df[\"smoker\"] == \"yes\"][\"charges\"].mean()\n",
    "mean_smoker_charges"
   ]
  },
  {
   "cell_type": "code",
   "execution_count": 18,
   "id": "fd9f0c28",
   "metadata": {},
   "outputs": [
    {
     "data": {
      "text/plain": [
       "8434.268297856199"
      ]
     },
     "execution_count": 18,
     "metadata": {},
     "output_type": "execute_result"
    }
   ],
   "source": [
    "mean_nonsmoker_charges = df[df[\"smoker\"] == \"no\"][\"charges\"].mean()\n",
    "mean_nonsmoker_charges"
   ]
  },
  {
   "cell_type": "markdown",
   "id": "b9faa597",
   "metadata": {},
   "source": [
    "-- Data yang diambil pengguna asuransi memiliki rata-rata umur kisaran 39.2 atau\n",
    "39 tahun. Untuk rata-rata umur perokok antar gender, perempuan > male (38.6>38.4).\n",
    "BMI merupakan berat massa tubuh pada seseorang dimana hal tersebut berpengaruh pada Kesehatan, pada data BMI laki-laki > perempuan (Male : 30,94 ; Female :30,37) hal ini menunjukan bahwa BMI tersebut masuk pada kategori Obesitas yaitu > 30. Sedangkan untuk BMI kategori rokok, ( Perokok : 30.65 > Non perokok : 30.70).\n",
    "Untuk biaya tagihan pengguna asuransi, (perokok : 32050,23183 Usd > non perokok : 8434,268298 Usd)"
   ]
  },
  {
   "cell_type": "markdown",
   "id": "39949729",
   "metadata": {},
   "source": [
    "## Analisa Variabel Kategorik (PMF)"
   ]
  },
  {
   "cell_type": "markdown",
   "id": "1ead8f1d",
   "metadata": {},
   "source": [
    "1. Gender mana yang memiliki tagihan paling tinggi?"
   ]
  },
  {
   "cell_type": "code",
   "execution_count": 19,
   "id": "f6aac69d",
   "metadata": {},
   "outputs": [
    {
     "data": {
      "text/plain": [
       "12569.57884383534"
      ]
     },
     "execution_count": 19,
     "metadata": {},
     "output_type": "execute_result"
    }
   ],
   "source": [
    "mean_female_charges = df[df[\"sex\"] == \"female\"][\"charges\"].mean()\n",
    "mean_female_charges"
   ]
  },
  {
   "cell_type": "code",
   "execution_count": 20,
   "id": "c93b54cf",
   "metadata": {},
   "outputs": [
    {
     "data": {
      "text/plain": [
       "13956.751177721886"
      ]
     },
     "execution_count": 20,
     "metadata": {},
     "output_type": "execute_result"
    }
   ],
   "source": [
    "mean_male_charges = df[df[\"sex\"] == \"male\"][\"charges\"].mean()\n",
    "mean_male_charges"
   ]
  },
  {
   "cell_type": "markdown",
   "id": "bb57375d",
   "metadata": {},
   "source": [
    "2. Distribusi peluang tagihan di tiap-tiap region"
   ]
  },
  {
   "cell_type": "code",
   "execution_count": 21,
   "id": "e7007df5",
   "metadata": {},
   "outputs": [
    {
     "data": {
      "text/plain": [
       "array(['southwest', 'southeast', 'northwest', 'northeast'], dtype=object)"
      ]
     },
     "execution_count": 21,
     "metadata": {},
     "output_type": "execute_result"
    }
   ],
   "source": [
    "df[\"region\"].unique()"
   ]
  },
  {
   "cell_type": "code",
   "execution_count": 22,
   "id": "eebc6b78",
   "metadata": {},
   "outputs": [
    {
     "data": {
      "text/plain": [
       "0.22599651943564628"
      ]
     },
     "execution_count": 22,
     "metadata": {},
     "output_type": "execute_result"
    }
   ],
   "source": [
    "prob_charges_southwest = df[df[\"region\"] == \"southwest\"][\"charges\"].sum() / df[\"charges\"].sum()\n",
    "prob_charges_southwest"
   ]
  },
  {
   "cell_type": "code",
   "execution_count": 23,
   "id": "f447bb46",
   "metadata": {},
   "outputs": [
    {
     "data": {
      "text/plain": [
       "0.30208057164798174"
      ]
     },
     "execution_count": 23,
     "metadata": {},
     "output_type": "execute_result"
    }
   ],
   "source": [
    "prob_charges_southeast = df[df[\"region\"] == \"southeast\"][\"charges\"].sum() / df[\"charges\"].sum()\n",
    "prob_charges_southeast"
   ]
  },
  {
   "cell_type": "code",
   "execution_count": 24,
   "id": "2bdc52dd",
   "metadata": {},
   "outputs": [
    {
     "data": {
      "text/plain": [
       "0.2272894669011652"
      ]
     },
     "execution_count": 24,
     "metadata": {},
     "output_type": "execute_result"
    }
   ],
   "source": [
    "prob_charges_northwest = df[df[\"region\"] == \"northwest\"][\"charges\"].sum() / df[\"charges\"].sum()\n",
    "prob_charges_northwest"
   ]
  },
  {
   "cell_type": "code",
   "execution_count": 25,
   "id": "fbbb17b8",
   "metadata": {},
   "outputs": [
    {
     "data": {
      "text/plain": [
       "0.24463344201520673"
      ]
     },
     "execution_count": 25,
     "metadata": {},
     "output_type": "execute_result"
    }
   ],
   "source": [
    "prob_charges_northeast = df[df[\"region\"] == \"northeast\"][\"charges\"].sum() / df[\"charges\"].sum()\n",
    "prob_charges_northeast"
   ]
  },
  {
   "cell_type": "code",
   "execution_count": 26,
   "id": "e6c9af54",
   "metadata": {},
   "outputs": [],
   "source": [
    "data_prob_dist = {\"Region\": ['southwest', 'southeast', 'northwest', 'northeast'], \"Probability\": [prob_charges_southwest, prob_charges_southeast, prob_charges_northwest, prob_charges_northeast]}\n",
    "\n",
    "df_prob_distribution = pd.DataFrame(data = data_prob_dist)"
   ]
  },
  {
   "cell_type": "code",
   "execution_count": 27,
   "id": "c157c7a3",
   "metadata": {},
   "outputs": [
    {
     "data": {
      "text/plain": [
       "{'Region': ['southwest', 'southeast', 'northwest', 'northeast'],\n",
       " 'Probability': [0.22599651943564628,\n",
       "  0.30208057164798174,\n",
       "  0.2272894669011652,\n",
       "  0.24463344201520673]}"
      ]
     },
     "execution_count": 27,
     "metadata": {},
     "output_type": "execute_result"
    }
   ],
   "source": [
    "data_prob_dist"
   ]
  },
  {
   "cell_type": "code",
   "execution_count": 28,
   "id": "71553113",
   "metadata": {},
   "outputs": [
    {
     "data": {
      "image/png": "[encoded data removed]",
      "text/plain": [
       "<Figure size 432x288 with 1 Axes>"
      ]
     },
     "metadata": {
      "needs_background": "light"
     },
     "output_type": "display_data"
    }
   ],
   "source": [
    "# sns.barplot(data = df_prob_distribution, x=\"Region\", y=\"Probability\")\n",
    "\n",
    "ax = sns.barplot(x='Region', y='Probability',\n",
    "                 data=df_prob_distribution,\n",
    "                 errwidth=0)\n",
    "\n",
    "for i in ax.containers:\n",
    "    ax.bar_label(i,)"
   ]
  },
  {
   "cell_type": "markdown",
   "id": "8fc2a168",
   "metadata": {},
   "source": [
    "3. Mana yang lebih tinggi proporsi perokok atau non perokok?"
   ]
  },
  {
   "cell_type": "code",
   "execution_count": 29,
   "id": "432d6b78",
   "metadata": {},
   "outputs": [],
   "source": [
    "df_data_proportion = df.groupby(['region', 'smoker'])['smoker'].count().to_frame()"
   ]
  },
  {
   "cell_type": "code",
   "execution_count": 30,
   "id": "bc2f2f96",
   "metadata": {},
   "outputs": [
    {
     "data": {
      "text/html": [
       "<div>\n",
       "<style scoped>\n",
       "    .dataframe tbody tr th:only-of-type {\n",
       "        vertical-align: middle;\n",
       "    }\n",
       "\n",
       "    .dataframe tbody tr th {\n",
       "        vertical-align: top;\n",
       "    }\n",
       "\n",
       "    .dataframe thead th {\n",
       "        text-align: right;\n",
       "    }\n",
       "</style>\n",
       "<table border=\"1\" class=\"dataframe\">\n",
       "  <thead>\n",
       "    <tr style=\"text-align: right;\">\n",
       "      <th></th>\n",
       "      <th></th>\n",
       "      <th>smoker</th>\n",
       "    </tr>\n",
       "    <tr>\n",
       "      <th>region</th>\n",
       "      <th>smoker</th>\n",
       "      <th></th>\n",
       "    </tr>\n",
       "  </thead>\n",
       "  <tbody>\n",
       "    <tr>\n",
       "      <th rowspan=\"2\" valign=\"top\">northeast</th>\n",
       "      <th>no</th>\n",
       "      <td>257</td>\n",
       "    </tr>\n",
       "    <tr>\n",
       "      <th>yes</th>\n",
       "      <td>67</td>\n",
       "    </tr>\n",
       "    <tr>\n",
       "      <th rowspan=\"2\" valign=\"top\">northwest</th>\n",
       "      <th>no</th>\n",
       "      <td>267</td>\n",
       "    </tr>\n",
       "    <tr>\n",
       "      <th>yes</th>\n",
       "      <td>58</td>\n",
       "    </tr>\n",
       "    <tr>\n",
       "      <th rowspan=\"2\" valign=\"top\">southeast</th>\n",
       "      <th>no</th>\n",
       "      <td>273</td>\n",
       "    </tr>\n",
       "    <tr>\n",
       "      <th>yes</th>\n",
       "      <td>91</td>\n",
       "    </tr>\n",
       "    <tr>\n",
       "      <th rowspan=\"2\" valign=\"top\">southwest</th>\n",
       "      <th>no</th>\n",
       "      <td>267</td>\n",
       "    </tr>\n",
       "    <tr>\n",
       "      <th>yes</th>\n",
       "      <td>58</td>\n",
       "    </tr>\n",
       "  </tbody>\n",
       "</table>\n",
       "</div>"
      ],
      "text/plain": [
       "                  smoker\n",
       "region    smoker        \n",
       "northeast no         257\n",
       "          yes         67\n",
       "northwest no         267\n",
       "          yes         58\n",
       "southeast no         273\n",
       "          yes         91\n",
       "southwest no         267\n",
       "          yes         58"
      ]
     },
     "execution_count": 30,
     "metadata": {},
     "output_type": "execute_result"
    }
   ],
   "source": [
    "df_data_proportion"
   ]
  },
  {
   "cell_type": "code",
   "execution_count": 31,
   "id": "0e2f45f4",
   "metadata": {},
   "outputs": [
    {
     "data": {
      "text/plain": [
       "<AxesSubplot:xlabel='region'>"
      ]
     },
     "execution_count": 31,
     "metadata": {},
     "output_type": "execute_result"
    },
    {
     "data": {
      "image/png": "[encoded data removed]",
      "text/plain": [
       "<Figure size 432x288 with 1 Axes>"
      ]
     },
     "metadata": {
      "needs_background": "light"
     },
     "output_type": "display_data"
    }
   ],
   "source": [
    "df_data_proportion.unstack().plot(kind='bar')\n",
    "\n",
    "# ax = sns.barplot(x =df_data_proportion.index, y='smoker',\n",
    "#                  data=df_data_proportion.unstack(),\n",
    "#                  errwidth=0)\n",
    "\n",
    "# for i in ax.containers:\n",
    "#     ax.bar_label(i,)"
   ]
  },
  {
   "cell_type": "markdown",
   "id": "f384c689",
   "metadata": {},
   "source": [
    "4. Apakah setiap region memiliki proporsi data banyak orang yang sama?"
   ]
  },
  {
   "cell_type": "code",
   "execution_count": 32,
   "id": "b6cbe616",
   "metadata": {},
   "outputs": [],
   "source": [
    "df_data_proportion2 = df.groupby(['region'])[\"charges\"].count().to_frame().reset_index()"
   ]
  },
  {
   "cell_type": "code",
   "execution_count": 33,
   "id": "40cfd37f",
   "metadata": {},
   "outputs": [
    {
     "data": {
      "text/html": [
       "<div>\n",
       "<style scoped>\n",
       "    .dataframe tbody tr th:only-of-type {\n",
       "        vertical-align: middle;\n",
       "    }\n",
       "\n",
       "    .dataframe tbody tr th {\n",
       "        vertical-align: top;\n",
       "    }\n",
       "\n",
       "    .dataframe thead th {\n",
       "        text-align: right;\n",
       "    }\n",
       "</style>\n",
       "<table border=\"1\" class=\"dataframe\">\n",
       "  <thead>\n",
       "    <tr style=\"text-align: right;\">\n",
       "      <th></th>\n",
       "      <th>region</th>\n",
       "      <th>charges</th>\n",
       "    </tr>\n",
       "  </thead>\n",
       "  <tbody>\n",
       "    <tr>\n",
       "      <th>0</th>\n",
       "      <td>northeast</td>\n",
       "      <td>324</td>\n",
       "    </tr>\n",
       "    <tr>\n",
       "      <th>1</th>\n",
       "      <td>northwest</td>\n",
       "      <td>325</td>\n",
       "    </tr>\n",
       "    <tr>\n",
       "      <th>2</th>\n",
       "      <td>southeast</td>\n",
       "      <td>364</td>\n",
       "    </tr>\n",
       "    <tr>\n",
       "      <th>3</th>\n",
       "      <td>southwest</td>\n",
       "      <td>325</td>\n",
       "    </tr>\n",
       "  </tbody>\n",
       "</table>\n",
       "</div>"
      ],
      "text/plain": [
       "      region  charges\n",
       "0  northeast      324\n",
       "1  northwest      325\n",
       "2  southeast      364\n",
       "3  southwest      325"
      ]
     },
     "execution_count": 33,
     "metadata": {},
     "output_type": "execute_result"
    }
   ],
   "source": [
    "df_data_proportion2"
   ]
  },
  {
   "cell_type": "code",
   "execution_count": 34,
   "id": "d8b51d56",
   "metadata": {},
   "outputs": [
    {
     "data": {
      "text/plain": [
       "<AxesSubplot:xlabel='region', ylabel='charges'>"
      ]
     },
     "execution_count": 34,
     "metadata": {},
     "output_type": "execute_result"
    },
    {
     "data": {
      "image/png": "[encoded data removed]",
      "text/plain": [
       "<Figure size 432x288 with 1 Axes>"
      ]
     },
     "metadata": {
      "needs_background": "light"
     },
     "output_type": "display_data"
    }
   ],
   "source": [
    "sns.barplot(data = df_data_proportion2, x = \"region\", y=\"charges\")"
   ]
  },
  {
   "cell_type": "markdown",
   "id": "86f5b25c",
   "metadata": {},
   "source": [
    "5. Berapa peluang seseorang tersebut adalah laki-laki diketahui dia adalah perokok?"
   ]
  },
  {
   "cell_type": "code",
   "execution_count": 35,
   "id": "3c24ac25",
   "metadata": {},
   "outputs": [
    {
     "data": {
      "text/plain": [
       "0.5802919708029197"
      ]
     },
     "execution_count": 35,
     "metadata": {},
     "output_type": "execute_result"
    }
   ],
   "source": [
    "df[(df[\"sex\"] == \"male\") & (df[\"smoker\"] == \"yes\")][\"smoker\"].count()/df[df[\"smoker\"] == \"yes\"][\"smoker\"].count()"
   ]
  },
  {
   "cell_type": "code",
   "execution_count": 36,
   "id": "6d54858f",
   "metadata": {},
   "outputs": [
    {
     "data": {
      "text/plain": [
       "0.4197080291970803"
      ]
     },
     "execution_count": 36,
     "metadata": {},
     "output_type": "execute_result"
    }
   ],
   "source": [
    "df[(df[\"sex\"] == \"female\") & (df[\"smoker\"] == \"yes\")][\"smoker\"].count()/df[df[\"smoker\"] == \"yes\"][\"smoker\"].count()"
   ]
  },
  {
   "cell_type": "markdown",
   "id": "97773e2e",
   "metadata": {},
   "source": [
    "## Analisa Variabel Kontinu"
   ]
  },
  {
   "cell_type": "markdown",
   "id": "28d3e945",
   "metadata": {},
   "source": [
    "1. Mana yang lebih mungkin terjadi"
   ]
  },
  {
   "cell_type": "markdown",
   "id": "78aa0513",
   "metadata": {},
   "source": [
    "    a. Seseorang dengan BMI diatas 25 mendapatkan tagihan kesehatan diatas 16.7k"
   ]
  },
  {
   "cell_type": "code",
   "execution_count": 37,
   "id": "a6074b19",
   "metadata": {},
   "outputs": [
    {
     "data": {
      "text/plain": [
       "283"
      ]
     },
     "execution_count": 37,
     "metadata": {},
     "output_type": "execute_result"
    }
   ],
   "source": [
    "sum_bmi_above25_charge_above16 = df[(df[\"bmi\"] > 25) & (df[\"charges\"] > 16_700)][\"charges\"].count()\n",
    "sum_bmi_above25_charge_above16"
   ]
  },
  {
   "cell_type": "code",
   "execution_count": 38,
   "id": "773fb2a9",
   "metadata": {},
   "outputs": [
    {
     "data": {
      "text/plain": [
       "1091"
      ]
     },
     "execution_count": 38,
     "metadata": {},
     "output_type": "execute_result"
    }
   ],
   "source": [
    "sum_bmi_above25 = df[(df[\"bmi\"] > 25)][\"bmi\"].count()\n",
    "sum_bmi_above25"
   ]
  },
  {
   "cell_type": "code",
   "execution_count": 39,
   "id": "67aacf81",
   "metadata": {},
   "outputs": [
    {
     "data": {
      "text/plain": [
       "0.25939505041246563"
      ]
     },
     "execution_count": 39,
     "metadata": {},
     "output_type": "execute_result"
    }
   ],
   "source": [
    "#P(Charges>16.700|BMI>25)\n",
    "\n",
    "prob1 = sum_bmi_above25_charge_above16/sum_bmi_above25\n",
    "prob1"
   ]
  },
  {
   "cell_type": "markdown",
   "id": "f9573d1d",
   "metadata": {},
   "source": [
    "    b. Seseorang dengan BMI dibawah 25 mendapatkan tagihan kesehatan diatas 16.7k"
   ]
  },
  {
   "cell_type": "code",
   "execution_count": 40,
   "id": "61738d2a",
   "metadata": {},
   "outputs": [
    {
     "data": {
      "text/plain": [
       "51"
      ]
     },
     "execution_count": 40,
     "metadata": {},
     "output_type": "execute_result"
    }
   ],
   "source": [
    "sum_bmi_below25_charge_above16 = df[(df[\"bmi\"] < 25) & (df[\"charges\"] > 16_700)][\"charges\"].count()\n",
    "sum_bmi_below25_charge_above16"
   ]
  },
  {
   "cell_type": "code",
   "execution_count": 41,
   "id": "bcb03767",
   "metadata": {},
   "outputs": [
    {
     "data": {
      "text/plain": [
       "245"
      ]
     },
     "execution_count": 41,
     "metadata": {},
     "output_type": "execute_result"
    }
   ],
   "source": [
    "sum_bmi_below25 = df[(df[\"bmi\"] < 25)][\"bmi\"].count()\n",
    "sum_bmi_below25"
   ]
  },
  {
   "cell_type": "code",
   "execution_count": 42,
   "id": "99b468f9",
   "metadata": {},
   "outputs": [
    {
     "data": {
      "text/plain": [
       "0.20816326530612245"
      ]
     },
     "execution_count": 42,
     "metadata": {},
     "output_type": "execute_result"
    }
   ],
   "source": [
    "#P(Charges>16.700|BMI<25)\n",
    "prob2 = sum_bmi_below25_charge_above16/sum_bmi_below25\n",
    "prob2"
   ]
  },
  {
   "cell_type": "markdown",
   "id": "94e30eb3",
   "metadata": {},
   "source": [
    "2. Mana yang lebih mungkin terjadi"
   ]
  },
  {
   "cell_type": "markdown",
   "id": "b05a5089",
   "metadata": {},
   "source": [
    "    a. Seseorang perokok dengan BMI diatas 25 mendapatkan tagihan kesehatan diatas 16.7k"
   ]
  },
  {
   "cell_type": "code",
   "execution_count": 43,
   "id": "dc2dd6aa",
   "metadata": {},
   "outputs": [
    {
     "data": {
      "text/plain": [
       "215"
      ]
     },
     "execution_count": 43,
     "metadata": {},
     "output_type": "execute_result"
    }
   ],
   "source": [
    "sum_smoker_bmi_above25_charge_above16 = df[(df[\"bmi\"] > 25) & (df[\"smoker\"] == \"yes\") & (df[\"charges\"] > 16_700)][\"charges\"].count()\n",
    "sum_smoker_bmi_above25_charge_above16"
   ]
  },
  {
   "cell_type": "code",
   "execution_count": 44,
   "id": "28a6613d",
   "metadata": {},
   "outputs": [
    {
     "data": {
      "text/plain": [
       "219"
      ]
     },
     "execution_count": 44,
     "metadata": {},
     "output_type": "execute_result"
    }
   ],
   "source": [
    "sum_smoker_bmi_above25 =  df[(df[\"bmi\"] > 25) & (df[\"smoker\"] == \"yes\")][\"bmi\"].count()\n",
    "sum_smoker_bmi_above25"
   ]
  },
  {
   "cell_type": "code",
   "execution_count": 45,
   "id": "dec97f8e",
   "metadata": {},
   "outputs": [
    {
     "data": {
      "text/plain": [
       "0.9817351598173516"
      ]
     },
     "execution_count": 45,
     "metadata": {},
     "output_type": "execute_result"
    }
   ],
   "source": [
    "#P(Charges>16.700|Smoker=yes, BMI>25)\n",
    "prob3 = sum_smoker_bmi_above25_charge_above16/sum_smoker_bmi_above25\n",
    "prob3"
   ]
  },
  {
   "cell_type": "markdown",
   "id": "1e5debbb",
   "metadata": {},
   "source": [
    "    b. Seseorang non perokok dengan BMI diatas 25 mendapatkan tagihan kesehatan diatas 16.7k"
   ]
  },
  {
   "cell_type": "code",
   "execution_count": 46,
   "id": "35681ef9",
   "metadata": {},
   "outputs": [
    {
     "data": {
      "text/plain": [
       "68"
      ]
     },
     "execution_count": 46,
     "metadata": {},
     "output_type": "execute_result"
    }
   ],
   "source": [
    "sum_nonsmoker_bmi_above25_charge_above16 = df[(df[\"bmi\"] > 25) & (df[\"smoker\"] == \"no\") & (df[\"charges\"] > 16_700)][\"charges\"].count()\n",
    "sum_nonsmoker_bmi_above25_charge_above16"
   ]
  },
  {
   "cell_type": "code",
   "execution_count": 47,
   "id": "78a75f55",
   "metadata": {},
   "outputs": [
    {
     "data": {
      "text/plain": [
       "872"
      ]
     },
     "execution_count": 47,
     "metadata": {},
     "output_type": "execute_result"
    }
   ],
   "source": [
    "sum_nonsmoker_bmi_above25 =  df[(df[\"bmi\"] > 25) & (df[\"smoker\"] == \"no\")][\"bmi\"].count()\n",
    "sum_nonsmoker_bmi_above25"
   ]
  },
  {
   "cell_type": "code",
   "execution_count": 48,
   "id": "e767bf5e",
   "metadata": {},
   "outputs": [
    {
     "data": {
      "text/plain": [
       "0.0779816513761468"
      ]
     },
     "execution_count": 48,
     "metadata": {},
     "output_type": "execute_result"
    }
   ],
   "source": [
    "#P(Charges>16.700|Smoker=yes, BMI>25)\n",
    "prob3 = sum_nonsmoker_bmi_above25_charge_above16/sum_nonsmoker_bmi_above25\n",
    "prob3"
   ]
  },
  {
   "cell_type": "markdown",
   "id": "093a03f7",
   "metadata": {},
   "source": [
    "## Analisa Korelasi Variabel"
   ]
  },
  {
   "cell_type": "code",
   "execution_count": 49,
   "id": "46fc7e85",
   "metadata": {},
   "outputs": [
    {
     "data": {
      "text/plain": [
       "<AxesSubplot:xlabel='children', ylabel='charges'>"
      ]
     },
     "execution_count": 49,
     "metadata": {},
     "output_type": "execute_result"
    },
    {
     "data": {
      "image/png": "[encoded data removed]",
      "text/plain": [
       "<Figure size 432x288 with 1 Axes>"
      ]
     },
     "metadata": {
      "needs_background": "light"
     },
     "output_type": "display_data"
    }
   ],
   "source": [
    "sns.barplot(data = df, x = df[\"children\"], y=df[\"charges\"])"
   ]
  },
  {
   "cell_type": "code",
   "execution_count": 50,
   "id": "c4b135cf",
   "metadata": {},
   "outputs": [
    {
     "data": {
      "text/plain": [
       "<AxesSubplot:xlabel='bmi', ylabel='charges'>"
      ]
     },
     "execution_count": 50,
     "metadata": {},
     "output_type": "execute_result"
    },
    {
     "data": {
      "image/png": "[encoded data removed]",
      "text/plain": [
       "<Figure size 432x288 with 1 Axes>"
      ]
     },
     "metadata": {
      "needs_background": "light"
     },
     "output_type": "display_data"
    }
   ],
   "source": [
    "sns.scatterplot(data = df, x = df[\"bmi\"], y=df[\"charges\"])"
   ]
  },
  {
   "cell_type": "code",
   "execution_count": 51,
   "id": "01ff8478",
   "metadata": {},
   "outputs": [
    {
     "data": {
      "text/plain": [
       "<seaborn.axisgrid.FacetGrid at 0x7fe707179a90>"
      ]
     },
     "execution_count": 51,
     "metadata": {},
     "output_type": "execute_result"
    },
    {
     "data": {
      "image/png": "[encoded data removed]",
      "text/plain": [
       "<Figure size 360x360 with 1 Axes>"
      ]
     },
     "metadata": {
      "needs_background": "light"
     },
     "output_type": "display_data"
    }
   ],
   "source": [
    "sns.relplot(data = df, x = df[\"bmi\"], y=df[\"charges\"])"
   ]
  },
  {
   "cell_type": "code",
   "execution_count": 52,
   "id": "e914ce33",
   "metadata": {},
   "outputs": [],
   "source": [
    "df_corr = df.copy()"
   ]
  },
  {
   "cell_type": "code",
   "execution_count": 53,
   "id": "08741cf3",
   "metadata": {},
   "outputs": [],
   "source": [
    "df_corr[\"Sex - Female\"] = df_corr[df_corr[\"sex\"] == \"female\"][\"sex\"]"
   ]
  },
  {
   "cell_type": "code",
   "execution_count": 54,
   "id": "d72f0bbd",
   "metadata": {},
   "outputs": [],
   "source": [
    "df_corr[\"Sex - Male\"] = df_corr[df_corr[\"sex\"] == \"male\"][\"sex\"]"
   ]
  },
  {
   "cell_type": "code",
   "execution_count": 55,
   "id": "1f09ba80",
   "metadata": {},
   "outputs": [],
   "source": [
    "df_corr[\"Smoker - Yes\"] = df_corr[df_corr[\"smoker\"] == \"yes\"][\"smoker\"]\n",
    "df_corr[\"Smoker - No\"] = df_corr[df_corr[\"smoker\"] == \"no\"][\"smoker\"]"
   ]
  },
  {
   "cell_type": "code",
   "execution_count": 56,
   "id": "8e1a3b3c",
   "metadata": {},
   "outputs": [],
   "source": [
    "df_corr[\"Region - northeast\"] = df_corr[df_corr[\"region\"] == \"northeast\"][\"region\"]\n",
    "df_corr[\"Region - northwest\"] = df_corr[df_corr[\"region\"] == \"northwest\"][\"region\"]\n",
    "df_corr[\"Region - southeast\"] = df_corr[df_corr[\"region\"] == \"southeast\"][\"region\"]\n",
    "df_corr[\"Region - southwest\"] = df_corr[df_corr[\"region\"] == \"southwest\"][\"region\"]"
   ]
  },
  {
   "cell_type": "code",
   "execution_count": 57,
   "id": "92fa3b44",
   "metadata": {},
   "outputs": [],
   "source": [
    "df_corr.drop(columns=[\"sex\",\"region\",\"smoker\"], axis=1, inplace= True)"
   ]
  },
  {
   "cell_type": "code",
   "execution_count": 58,
   "id": "39db203e",
   "metadata": {},
   "outputs": [
    {
     "data": {
      "text/html": [
       "<div>\n",
       "<style scoped>\n",
       "    .dataframe tbody tr th:only-of-type {\n",
       "        vertical-align: middle;\n",
       "    }\n",
       "\n",
       "    .dataframe tbody tr th {\n",
       "        vertical-align: top;\n",
       "    }\n",
       "\n",
       "    .dataframe thead th {\n",
       "        text-align: right;\n",
       "    }\n",
       "</style>\n",
       "<table border=\"1\" class=\"dataframe\">\n",
       "  <thead>\n",
       "    <tr style=\"text-align: right;\">\n",
       "      <th></th>\n",
       "      <th>age</th>\n",
       "      <th>bmi</th>\n",
       "      <th>children</th>\n",
       "      <th>charges</th>\n",
       "      <th>Sex - Female</th>\n",
       "      <th>Sex - Male</th>\n",
       "      <th>Smoker - Yes</th>\n",
       "      <th>Smoker - No</th>\n",
       "      <th>Region - northeast</th>\n",
       "      <th>Region - northwest</th>\n",
       "      <th>Region - southeast</th>\n",
       "      <th>Region - southwest</th>\n",
       "    </tr>\n",
       "  </thead>\n",
       "  <tbody>\n",
       "    <tr>\n",
       "      <th>0</th>\n",
       "      <td>19</td>\n",
       "      <td>27.900</td>\n",
       "      <td>0</td>\n",
       "      <td>16884.92400</td>\n",
       "      <td>female</td>\n",
       "      <td>NaN</td>\n",
       "      <td>yes</td>\n",
       "      <td>NaN</td>\n",
       "      <td>NaN</td>\n",
       "      <td>NaN</td>\n",
       "      <td>NaN</td>\n",
       "      <td>southwest</td>\n",
       "    </tr>\n",
       "    <tr>\n",
       "      <th>1</th>\n",
       "      <td>18</td>\n",
       "      <td>33.770</td>\n",
       "      <td>1</td>\n",
       "      <td>1725.55230</td>\n",
       "      <td>NaN</td>\n",
       "      <td>male</td>\n",
       "      <td>NaN</td>\n",
       "      <td>no</td>\n",
       "      <td>NaN</td>\n",
       "      <td>NaN</td>\n",
       "      <td>southeast</td>\n",
       "      <td>NaN</td>\n",
       "    </tr>\n",
       "    <tr>\n",
       "      <th>2</th>\n",
       "      <td>28</td>\n",
       "      <td>33.000</td>\n",
       "      <td>3</td>\n",
       "      <td>4449.46200</td>\n",
       "      <td>NaN</td>\n",
       "      <td>male</td>\n",
       "      <td>NaN</td>\n",
       "      <td>no</td>\n",
       "      <td>NaN</td>\n",
       "      <td>NaN</td>\n",
       "      <td>southeast</td>\n",
       "      <td>NaN</td>\n",
       "    </tr>\n",
       "    <tr>\n",
       "      <th>3</th>\n",
       "      <td>33</td>\n",
       "      <td>22.705</td>\n",
       "      <td>0</td>\n",
       "      <td>21984.47061</td>\n",
       "      <td>NaN</td>\n",
       "      <td>male</td>\n",
       "      <td>NaN</td>\n",
       "      <td>no</td>\n",
       "      <td>NaN</td>\n",
       "      <td>northwest</td>\n",
       "      <td>NaN</td>\n",
       "      <td>NaN</td>\n",
       "    </tr>\n",
       "    <tr>\n",
       "      <th>4</th>\n",
       "      <td>32</td>\n",
       "      <td>28.880</td>\n",
       "      <td>0</td>\n",
       "      <td>3866.85520</td>\n",
       "      <td>NaN</td>\n",
       "      <td>male</td>\n",
       "      <td>NaN</td>\n",
       "      <td>no</td>\n",
       "      <td>NaN</td>\n",
       "      <td>northwest</td>\n",
       "      <td>NaN</td>\n",
       "      <td>NaN</td>\n",
       "    </tr>\n",
       "    <tr>\n",
       "      <th>...</th>\n",
       "      <td>...</td>\n",
       "      <td>...</td>\n",
       "      <td>...</td>\n",
       "      <td>...</td>\n",
       "      <td>...</td>\n",
       "      <td>...</td>\n",
       "      <td>...</td>\n",
       "      <td>...</td>\n",
       "      <td>...</td>\n",
       "      <td>...</td>\n",
       "      <td>...</td>\n",
       "      <td>...</td>\n",
       "    </tr>\n",
       "    <tr>\n",
       "      <th>1333</th>\n",
       "      <td>50</td>\n",
       "      <td>30.970</td>\n",
       "      <td>3</td>\n",
       "      <td>10600.54830</td>\n",
       "      <td>NaN</td>\n",
       "      <td>male</td>\n",
       "      <td>NaN</td>\n",
       "      <td>no</td>\n",
       "      <td>NaN</td>\n",
       "      <td>northwest</td>\n",
       "      <td>NaN</td>\n",
       "      <td>NaN</td>\n",
       "    </tr>\n",
       "    <tr>\n",
       "      <th>1334</th>\n",
       "      <td>18</td>\n",
       "      <td>31.920</td>\n",
       "      <td>0</td>\n",
       "      <td>2205.98080</td>\n",
       "      <td>female</td>\n",
       "      <td>NaN</td>\n",
       "      <td>NaN</td>\n",
       "      <td>no</td>\n",
       "      <td>northeast</td>\n",
       "      <td>NaN</td>\n",
       "      <td>NaN</td>\n",
       "      <td>NaN</td>\n",
       "    </tr>\n",
       "    <tr>\n",
       "      <th>1335</th>\n",
       "      <td>18</td>\n",
       "      <td>36.850</td>\n",
       "      <td>0</td>\n",
       "      <td>1629.83350</td>\n",
       "      <td>female</td>\n",
       "      <td>NaN</td>\n",
       "      <td>NaN</td>\n",
       "      <td>no</td>\n",
       "      <td>NaN</td>\n",
       "      <td>NaN</td>\n",
       "      <td>southeast</td>\n",
       "      <td>NaN</td>\n",
       "    </tr>\n",
       "    <tr>\n",
       "      <th>1336</th>\n",
       "      <td>21</td>\n",
       "      <td>25.800</td>\n",
       "      <td>0</td>\n",
       "      <td>2007.94500</td>\n",
       "      <td>female</td>\n",
       "      <td>NaN</td>\n",
       "      <td>NaN</td>\n",
       "      <td>no</td>\n",
       "      <td>NaN</td>\n",
       "      <td>NaN</td>\n",
       "      <td>NaN</td>\n",
       "      <td>southwest</td>\n",
       "    </tr>\n",
       "    <tr>\n",
       "      <th>1337</th>\n",
       "      <td>61</td>\n",
       "      <td>29.070</td>\n",
       "      <td>0</td>\n",
       "      <td>29141.36030</td>\n",
       "      <td>female</td>\n",
       "      <td>NaN</td>\n",
       "      <td>yes</td>\n",
       "      <td>NaN</td>\n",
       "      <td>NaN</td>\n",
       "      <td>northwest</td>\n",
       "      <td>NaN</td>\n",
       "      <td>NaN</td>\n",
       "    </tr>\n",
       "  </tbody>\n",
       "</table>\n",
       "<p>1338 rows × 12 columns</p>\n",
       "</div>"
      ],
      "text/plain": [
       "      age     bmi  children      charges Sex - Female Sex - Male Smoker - Yes  \\\n",
       "0      19  27.900         0  16884.92400       female        NaN          yes   \n",
       "1      18  33.770         1   1725.55230          NaN       male          NaN   \n",
       "2      28  33.000         3   4449.46200          NaN       male          NaN   \n",
       "3      33  22.705         0  21984.47061          NaN       male          NaN   \n",
       "4      32  28.880         0   3866.85520          NaN       male          NaN   \n",
       "...   ...     ...       ...          ...          ...        ...          ...   \n",
       "1333   50  30.970         3  10600.54830          NaN       male          NaN   \n",
       "1334   18  31.920         0   2205.98080       female        NaN          NaN   \n",
       "1335   18  36.850         0   1629.83350       female        NaN          NaN   \n",
       "1336   21  25.800         0   2007.94500       female        NaN          NaN   \n",
       "1337   61  29.070         0  29141.36030       female        NaN          yes   \n",
       "\n",
       "     Smoker - No Region - northeast Region - northwest Region - southeast  \\\n",
       "0            NaN                NaN                NaN                NaN   \n",
       "1             no                NaN                NaN          southeast   \n",
       "2             no                NaN                NaN          southeast   \n",
       "3             no                NaN          northwest                NaN   \n",
       "4             no                NaN          northwest                NaN   \n",
       "...          ...                ...                ...                ...   \n",
       "1333          no                NaN          northwest                NaN   \n",
       "1334          no          northeast                NaN                NaN   \n",
       "1335          no                NaN                NaN          southeast   \n",
       "1336          no                NaN                NaN                NaN   \n",
       "1337         NaN                NaN          northwest                NaN   \n",
       "\n",
       "     Region - southwest  \n",
       "0             southwest  \n",
       "1                   NaN  \n",
       "2                   NaN  \n",
       "3                   NaN  \n",
       "4                   NaN  \n",
       "...                 ...  \n",
       "1333                NaN  \n",
       "1334                NaN  \n",
       "1335                NaN  \n",
       "1336          southwest  \n",
       "1337                NaN  \n",
       "\n",
       "[1338 rows x 12 columns]"
      ]
     },
     "execution_count": 58,
     "metadata": {},
     "output_type": "execute_result"
    }
   ],
   "source": [
    "df_corr"
   ]
  },
  {
   "cell_type": "code",
   "execution_count": 59,
   "id": "1806e33a",
   "metadata": {},
   "outputs": [
    {
     "data": {
      "text/plain": [
       "Index(['age', 'bmi', 'children', 'charges', 'Sex - Female', 'Sex - Male',\n",
       "       'Smoker - Yes', 'Smoker - No', 'Region - northeast',\n",
       "       'Region - northwest', 'Region - southeast', 'Region - southwest'],\n",
       "      dtype='object')"
      ]
     },
     "execution_count": 59,
     "metadata": {},
     "output_type": "execute_result"
    }
   ],
   "source": [
    "df_corr.columns"
   ]
  },
  {
   "cell_type": "code",
   "execution_count": 60,
   "id": "0a83d528",
   "metadata": {},
   "outputs": [],
   "source": [
    "df_corr[['Sex - Female', 'Sex - Male',\n",
    "       'Smoker - Yes', 'Smoker - No', 'Region - northeast',\n",
    "       'Region - northwest', 'Region - southeast', 'Region - southwest']] = df_corr[['Sex - Female', 'Sex - Male',\n",
    "       'Smoker - Yes', 'Smoker - No', 'Region - northeast',\n",
    "       'Region - northwest', 'Region - southeast', 'Region - southwest']].apply(lambda x: x.factorize()[0])"
   ]
  },
  {
   "cell_type": "code",
   "execution_count": 61,
   "id": "fc94c0cb",
   "metadata": {},
   "outputs": [
    {
     "data": {
      "text/html": [
       "<div>\n",
       "<style scoped>\n",
       "    .dataframe tbody tr th:only-of-type {\n",
       "        vertical-align: middle;\n",
       "    }\n",
       "\n",
       "    .dataframe tbody tr th {\n",
       "        vertical-align: top;\n",
       "    }\n",
       "\n",
       "    .dataframe thead th {\n",
       "        text-align: right;\n",
       "    }\n",
       "</style>\n",
       "<table border=\"1\" class=\"dataframe\">\n",
       "  <thead>\n",
       "    <tr style=\"text-align: right;\">\n",
       "      <th></th>\n",
       "      <th>age</th>\n",
       "      <th>bmi</th>\n",
       "      <th>children</th>\n",
       "      <th>charges</th>\n",
       "      <th>Sex - Female</th>\n",
       "      <th>Sex - Male</th>\n",
       "      <th>Smoker - Yes</th>\n",
       "      <th>Smoker - No</th>\n",
       "      <th>Region - northeast</th>\n",
       "      <th>Region - northwest</th>\n",
       "      <th>Region - southeast</th>\n",
       "      <th>Region - southwest</th>\n",
       "    </tr>\n",
       "  </thead>\n",
       "  <tbody>\n",
       "    <tr>\n",
       "      <th>age</th>\n",
       "      <td>1.000000</td>\n",
       "      <td>0.109272</td>\n",
       "      <td>0.042469</td>\n",
       "      <td>0.299008</td>\n",
       "      <td>0.020856</td>\n",
       "      <td>-0.020856</td>\n",
       "      <td>-0.025019</td>\n",
       "      <td>0.025019</td>\n",
       "      <td>0.002475</td>\n",
       "      <td>-0.000407</td>\n",
       "      <td>-0.011642</td>\n",
       "      <td>0.010016</td>\n",
       "    </tr>\n",
       "    <tr>\n",
       "      <th>bmi</th>\n",
       "      <td>0.109272</td>\n",
       "      <td>1.000000</td>\n",
       "      <td>0.012759</td>\n",
       "      <td>0.198341</td>\n",
       "      <td>-0.046371</td>\n",
       "      <td>0.046371</td>\n",
       "      <td>0.003750</td>\n",
       "      <td>-0.003750</td>\n",
       "      <td>-0.138156</td>\n",
       "      <td>-0.135996</td>\n",
       "      <td>0.270025</td>\n",
       "      <td>-0.006205</td>\n",
       "    </tr>\n",
       "    <tr>\n",
       "      <th>children</th>\n",
       "      <td>0.042469</td>\n",
       "      <td>0.012759</td>\n",
       "      <td>1.000000</td>\n",
       "      <td>0.067998</td>\n",
       "      <td>-0.017163</td>\n",
       "      <td>0.017163</td>\n",
       "      <td>0.007673</td>\n",
       "      <td>-0.007673</td>\n",
       "      <td>-0.022808</td>\n",
       "      <td>0.024806</td>\n",
       "      <td>-0.023066</td>\n",
       "      <td>0.021914</td>\n",
       "    </tr>\n",
       "    <tr>\n",
       "      <th>charges</th>\n",
       "      <td>0.299008</td>\n",
       "      <td>0.198341</td>\n",
       "      <td>0.067998</td>\n",
       "      <td>1.000000</td>\n",
       "      <td>-0.057292</td>\n",
       "      <td>0.057292</td>\n",
       "      <td>0.787251</td>\n",
       "      <td>-0.787251</td>\n",
       "      <td>0.006349</td>\n",
       "      <td>-0.039905</td>\n",
       "      <td>0.073982</td>\n",
       "      <td>-0.043210</td>\n",
       "    </tr>\n",
       "    <tr>\n",
       "      <th>Sex - Female</th>\n",
       "      <td>0.020856</td>\n",
       "      <td>-0.046371</td>\n",
       "      <td>-0.017163</td>\n",
       "      <td>-0.057292</td>\n",
       "      <td>1.000000</td>\n",
       "      <td>-1.000000</td>\n",
       "      <td>-0.076185</td>\n",
       "      <td>0.076185</td>\n",
       "      <td>0.002425</td>\n",
       "      <td>0.011156</td>\n",
       "      <td>-0.017117</td>\n",
       "      <td>0.004184</td>\n",
       "    </tr>\n",
       "    <tr>\n",
       "      <th>Sex - Male</th>\n",
       "      <td>-0.020856</td>\n",
       "      <td>0.046371</td>\n",
       "      <td>0.017163</td>\n",
       "      <td>0.057292</td>\n",
       "      <td>-1.000000</td>\n",
       "      <td>1.000000</td>\n",
       "      <td>0.076185</td>\n",
       "      <td>-0.076185</td>\n",
       "      <td>-0.002425</td>\n",
       "      <td>-0.011156</td>\n",
       "      <td>0.017117</td>\n",
       "      <td>-0.004184</td>\n",
       "    </tr>\n",
       "    <tr>\n",
       "      <th>Smoker - Yes</th>\n",
       "      <td>-0.025019</td>\n",
       "      <td>0.003750</td>\n",
       "      <td>0.007673</td>\n",
       "      <td>0.787251</td>\n",
       "      <td>-0.076185</td>\n",
       "      <td>0.076185</td>\n",
       "      <td>1.000000</td>\n",
       "      <td>-1.000000</td>\n",
       "      <td>0.002811</td>\n",
       "      <td>-0.036945</td>\n",
       "      <td>0.068498</td>\n",
       "      <td>-0.036945</td>\n",
       "    </tr>\n",
       "    <tr>\n",
       "      <th>Smoker - No</th>\n",
       "      <td>0.025019</td>\n",
       "      <td>-0.003750</td>\n",
       "      <td>-0.007673</td>\n",
       "      <td>-0.787251</td>\n",
       "      <td>0.076185</td>\n",
       "      <td>-0.076185</td>\n",
       "      <td>-1.000000</td>\n",
       "      <td>1.000000</td>\n",
       "      <td>-0.002811</td>\n",
       "      <td>0.036945</td>\n",
       "      <td>-0.068498</td>\n",
       "      <td>0.036945</td>\n",
       "    </tr>\n",
       "    <tr>\n",
       "      <th>Region - northeast</th>\n",
       "      <td>0.002475</td>\n",
       "      <td>-0.138156</td>\n",
       "      <td>-0.022808</td>\n",
       "      <td>0.006349</td>\n",
       "      <td>0.002425</td>\n",
       "      <td>-0.002425</td>\n",
       "      <td>0.002811</td>\n",
       "      <td>-0.002811</td>\n",
       "      <td>1.000000</td>\n",
       "      <td>-0.320177</td>\n",
       "      <td>-0.345561</td>\n",
       "      <td>-0.320177</td>\n",
       "    </tr>\n",
       "    <tr>\n",
       "      <th>Region - northwest</th>\n",
       "      <td>-0.000407</td>\n",
       "      <td>-0.135996</td>\n",
       "      <td>0.024806</td>\n",
       "      <td>-0.039905</td>\n",
       "      <td>0.011156</td>\n",
       "      <td>-0.011156</td>\n",
       "      <td>-0.036945</td>\n",
       "      <td>0.036945</td>\n",
       "      <td>-0.320177</td>\n",
       "      <td>1.000000</td>\n",
       "      <td>-0.346265</td>\n",
       "      <td>-0.320829</td>\n",
       "    </tr>\n",
       "    <tr>\n",
       "      <th>Region - southeast</th>\n",
       "      <td>-0.011642</td>\n",
       "      <td>0.270025</td>\n",
       "      <td>-0.023066</td>\n",
       "      <td>0.073982</td>\n",
       "      <td>-0.017117</td>\n",
       "      <td>0.017117</td>\n",
       "      <td>0.068498</td>\n",
       "      <td>-0.068498</td>\n",
       "      <td>-0.345561</td>\n",
       "      <td>-0.346265</td>\n",
       "      <td>1.000000</td>\n",
       "      <td>-0.346265</td>\n",
       "    </tr>\n",
       "    <tr>\n",
       "      <th>Region - southwest</th>\n",
       "      <td>0.010016</td>\n",
       "      <td>-0.006205</td>\n",
       "      <td>0.021914</td>\n",
       "      <td>-0.043210</td>\n",
       "      <td>0.004184</td>\n",
       "      <td>-0.004184</td>\n",
       "      <td>-0.036945</td>\n",
       "      <td>0.036945</td>\n",
       "      <td>-0.320177</td>\n",
       "      <td>-0.320829</td>\n",
       "      <td>-0.346265</td>\n",
       "      <td>1.000000</td>\n",
       "    </tr>\n",
       "  </tbody>\n",
       "</table>\n",
       "</div>"
      ],
      "text/plain": [
       "                         age       bmi  children   charges  Sex - Female  \\\n",
       "age                 1.000000  0.109272  0.042469  0.299008      0.020856   \n",
       "bmi                 0.109272  1.000000  0.012759  0.198341     -0.046371   \n",
       "children            0.042469  0.012759  1.000000  0.067998     -0.017163   \n",
       "charges             0.299008  0.198341  0.067998  1.000000     -0.057292   \n",
       "Sex - Female        0.020856 -0.046371 -0.017163 -0.057292      1.000000   \n",
       "Sex - Male         -0.020856  0.046371  0.017163  0.057292     -1.000000   \n",
       "Smoker - Yes       -0.025019  0.003750  0.007673  0.787251     -0.076185   \n",
       "Smoker - No         0.025019 -0.003750 -0.007673 -0.787251      0.076185   \n",
       "Region - northeast  0.002475 -0.138156 -0.022808  0.006349      0.002425   \n",
       "Region - northwest -0.000407 -0.135996  0.024806 -0.039905      0.011156   \n",
       "Region - southeast -0.011642  0.270025 -0.023066  0.073982     -0.017117   \n",
       "Region - southwest  0.010016 -0.006205  0.021914 -0.043210      0.004184   \n",
       "\n",
       "                    Sex - Male  Smoker - Yes  Smoker - No  Region - northeast  \\\n",
       "age                  -0.020856     -0.025019     0.025019            0.002475   \n",
       "bmi                   0.046371      0.003750    -0.003750           -0.138156   \n",
       "children              0.017163      0.007673    -0.007673           -0.022808   \n",
       "charges               0.057292      0.787251    -0.787251            0.006349   \n",
       "Sex - Female         -1.000000     -0.076185     0.076185            0.002425   \n",
       "Sex - Male            1.000000      0.076185    -0.076185           -0.002425   \n",
       "Smoker - Yes          0.076185      1.000000    -1.000000            0.002811   \n",
       "Smoker - No          -0.076185     -1.000000     1.000000           -0.002811   \n",
       "Region - northeast   -0.002425      0.002811    -0.002811            1.000000   \n",
       "Region - northwest   -0.011156     -0.036945     0.036945           -0.320177   \n",
       "Region - southeast    0.017117      0.068498    -0.068498           -0.345561   \n",
       "Region - southwest   -0.004184     -0.036945     0.036945           -0.320177   \n",
       "\n",
       "                    Region - northwest  Region - southeast  Region - southwest  \n",
       "age                          -0.000407           -0.011642            0.010016  \n",
       "bmi                          -0.135996            0.270025           -0.006205  \n",
       "children                      0.024806           -0.023066            0.021914  \n",
       "charges                      -0.039905            0.073982           -0.043210  \n",
       "Sex - Female                  0.011156           -0.017117            0.004184  \n",
       "Sex - Male                   -0.011156            0.017117           -0.004184  \n",
       "Smoker - Yes                 -0.036945            0.068498           -0.036945  \n",
       "Smoker - No                   0.036945           -0.068498            0.036945  \n",
       "Region - northeast           -0.320177           -0.345561           -0.320177  \n",
       "Region - northwest            1.000000           -0.346265           -0.320829  \n",
       "Region - southeast           -0.346265            1.000000           -0.346265  \n",
       "Region - southwest           -0.320829           -0.346265            1.000000  "
      ]
     },
     "execution_count": 61,
     "metadata": {},
     "output_type": "execute_result"
    }
   ],
   "source": [
    "df_corr.corr(min_periods=3, method=\"pearson\")"
   ]
  },
  {
   "cell_type": "markdown",
   "id": "57a27ae0",
   "metadata": {},
   "source": [
    "## Pengujian Hipotesis"
   ]
  },
  {
   "cell_type": "markdown",
   "id": "b1d53552",
   "metadata": {},
   "source": [
    "1. Uji: Tagihan Perokok Lebih Besar dari Tagihan Non Perokok"
   ]
  },
  {
   "cell_type": "markdown",
   "id": "52e2762a",
   "metadata": {},
   "source": [
    "TOTAL SMOKER VS TOTAL NON-SMOKER"
   ]
  },
  {
   "cell_type": "code",
   "execution_count": 62,
   "id": "a0b70d88",
   "metadata": {
    "scrolled": true
   },
   "outputs": [
    {
     "data": {
      "text/plain": [
       "274"
      ]
     },
     "execution_count": 62,
     "metadata": {},
     "output_type": "execute_result"
    }
   ],
   "source": [
    "n_smoker = df[df[\"smoker\"] == \"yes\"][\"charges\"].count() \n",
    "n_smoker"
   ]
  },
  {
   "cell_type": "code",
   "execution_count": 63,
   "id": "dc47c1b1",
   "metadata": {},
   "outputs": [
    {
     "data": {
      "text/plain": [
       "1064"
      ]
     },
     "execution_count": 63,
     "metadata": {},
     "output_type": "execute_result"
    }
   ],
   "source": [
    "n_nonsmoker = df[df[\"smoker\"] == \"no\"][\"charges\"].count() \n",
    "n_nonsmoker"
   ]
  },
  {
   "cell_type": "markdown",
   "id": "346a56c3",
   "metadata": {},
   "source": [
    "MEAN SMOKER VS MEAN NON-SMOKER"
   ]
  },
  {
   "cell_type": "code",
   "execution_count": 64,
   "id": "f388312e",
   "metadata": {},
   "outputs": [
    {
     "data": {
      "text/plain": [
       "32050.23183153285"
      ]
     },
     "execution_count": 64,
     "metadata": {},
     "output_type": "execute_result"
    }
   ],
   "source": [
    "mean_charges_smoker = df[df[\"smoker\"] == \"yes\"][\"charges\"].mean() \n",
    "mean_charges_smoker"
   ]
  },
  {
   "cell_type": "code",
   "execution_count": 65,
   "id": "ca7ef465",
   "metadata": {},
   "outputs": [
    {
     "data": {
      "text/plain": [
       "8434.268297856199"
      ]
     },
     "execution_count": 65,
     "metadata": {},
     "output_type": "execute_result"
    }
   ],
   "source": [
    "mean_charges_smoker = df[df[\"smoker\"] == \"no\"][\"charges\"].mean() \n",
    "mean_charges_smoker"
   ]
  },
  {
   "cell_type": "markdown",
   "id": "39c973e3",
   "metadata": {},
   "source": [
    "VARIANCE SMOKER VS VARIANCE NON-SMOKER"
   ]
  },
  {
   "cell_type": "code",
   "execution_count": 66,
   "id": "eb9fdd88",
   "metadata": {},
   "outputs": [
    {
     "data": {
      "text/plain": [
       "132721153.13625304"
      ]
     },
     "execution_count": 66,
     "metadata": {},
     "output_type": "execute_result"
    }
   ],
   "source": [
    "var_smoker = np.var(df[df[\"smoker\"] == \"yes\"][\"charges\"])\n",
    "var_smoker"
   ]
  },
  {
   "cell_type": "code",
   "execution_count": 67,
   "id": "e1844ca8",
   "metadata": {},
   "outputs": [
    {
     "data": {
      "text/plain": [
       "35891656.00316425"
      ]
     },
     "execution_count": 67,
     "metadata": {},
     "output_type": "execute_result"
    }
   ],
   "source": [
    "var_nonsmoker = np.var(df[df[\"smoker\"] == \"no\"][\"charges\"])\n",
    "var_nonsmoker"
   ]
  },
  {
   "cell_type": "code",
   "execution_count": 68,
   "id": "9dfc0ff6",
   "metadata": {},
   "outputs": [],
   "source": [
    "mu_smoker = n_smoker\n",
    "mu_nonsmoker = n_nonsmoker"
   ]
  },
  {
   "cell_type": "markdown",
   "id": "f69f9020",
   "metadata": {},
   "source": [
    "Jika hipotesis yang akan kita uji adalah:\n",
    "$$H_0: \\mu_{smoker} \\leq \\mu_{nonsmoker}$$\n",
    "$$H_1: \\mu_{smoker} > \\mu_{nonsmoker}$$"
   ]
  },
  {
   "attachments": {
    "image.png": {
     "image/png": "[encoded data removed]"
    }
   },
   "cell_type": "markdown",
   "id": "c5746b1a",
   "metadata": {},
   "source": [
    "![image.png](attachment:image.png)"
   ]
  },
  {
   "cell_type": "code",
   "execution_count": 72,
   "id": "da7a637b",
   "metadata": {},
   "outputs": [
    {
     "name": "stdout",
     "output_type": "stream",
     "text": [
      "-1.6504337929538409\n"
     ]
    }
   ],
   "source": [
    "from scipy.stats import t\n",
    "t_crit = t.ppf(alpha,df=n_smoker-1)\n",
    "print(t_crit)"
   ]
  },
  {
   "cell_type": "code",
   "execution_count": 69,
   "id": "995bad61",
   "metadata": {},
   "outputs": [
    {
     "name": "stdout",
     "output_type": "stream",
     "text": [
      "t-test = 32.7519, p-value = 1.0000\n"
     ]
    }
   ],
   "source": [
    "from scipy.stats import ttest_ind\n",
    "\n",
    "stat, p = ttest_ind(a = df[df[\"smoker\"] == \"yes\"][\"charges\"], b = df[df[\"smoker\"] == \"no\"][\"charges\"], equal_var=False, alternative='less') # eaual_var= False karena varians kedua populasi berbeda\n",
    "\n",
    "# Interpretasi Hasil\n",
    "print('t-test = %.4f, p-value = %.4f' % (stat, p)) "
   ]
  },
  {
   "cell_type": "code",
   "execution_count": 70,
   "id": "6fbc139a",
   "metadata": {},
   "outputs": [
    {
     "name": "stdout",
     "output_type": "stream",
     "text": [
      "Two group means are equal (Gagal tolak H0)\n"
     ]
    }
   ],
   "source": [
    "alpha = 0.05\n",
    "# Pengambilan Keputusan\n",
    "if p > alpha:\n",
    "    print('Two group means are equal (Gagal tolak H0)') \n",
    "else:\n",
    "    print('Two group means are different (Tolak H0)')"
   ]
  },
  {
   "cell_type": "markdown",
   "id": "f24907f8",
   "metadata": {},
   "source": [
    "2. Uji: Tagihan BMI>25 Lebih Besar dari Tagihan BMI<25"
   ]
  },
  {
   "cell_type": "markdown",
   "id": "bff9dd5f",
   "metadata": {},
   "source": [
    "TOTAL BMI>25 VS TOTAL BMI<25"
   ]
  },
  {
   "cell_type": "code",
   "execution_count": 73,
   "id": "6b6d8ded",
   "metadata": {
    "scrolled": true
   },
   "outputs": [
    {
     "data": {
      "text/plain": [
       "1091"
      ]
     },
     "execution_count": 73,
     "metadata": {},
     "output_type": "execute_result"
    }
   ],
   "source": [
    "n_bmi_above_25 = df[df[\"bmi\"] > 25][\"charges\"].count() \n",
    "n_bmi_above_25"
   ]
  },
  {
   "cell_type": "code",
   "execution_count": 74,
   "id": "2115305a",
   "metadata": {},
   "outputs": [
    {
     "data": {
      "text/plain": [
       "245"
      ]
     },
     "execution_count": 74,
     "metadata": {},
     "output_type": "execute_result"
    }
   ],
   "source": [
    "n_bmi_less_25 = df[df[\"bmi\"] < 25][\"charges\"].count() \n",
    "n_bmi_less_25"
   ]
  },
  {
   "cell_type": "markdown",
   "id": "81ae2377",
   "metadata": {},
   "source": [
    "MEAN BMI>25  VS MEAN BMI<25"
   ]
  },
  {
   "cell_type": "code",
   "execution_count": 75,
   "id": "69d3fdd9",
   "metadata": {},
   "outputs": [
    {
     "data": {
      "text/plain": [
       "13946.47603532447"
      ]
     },
     "execution_count": 75,
     "metadata": {},
     "output_type": "execute_result"
    }
   ],
   "source": [
    "mean_charges_bmi_above_25 = df[df[\"bmi\"] > 25][\"charges\"].mean() \n",
    "mean_charges_bmi_above_25"
   ]
  },
  {
   "cell_type": "code",
   "execution_count": 76,
   "id": "ca7ef465",
   "metadata": {},
   "outputs": [
    {
     "data": {
      "text/plain": [
       "10282.224474367351"
      ]
     },
     "execution_count": 76,
     "metadata": {},
     "output_type": "execute_result"
    }
   ],
   "source": [
    "mean_charges_bmi_less_25 = df[df[\"bmi\"] < 25][\"charges\"].mean() \n",
    "mean_charges_bmi_less_25"
   ]
  },
  {
   "cell_type": "markdown",
   "id": "53499159",
   "metadata": {},
   "source": [
    "VARIANCE BMI>25 VS VARIANCE BMI<25"
   ]
  },
  {
   "cell_type": "code",
   "execution_count": 77,
   "id": "8dea4fe9",
   "metadata": {},
   "outputs": [
    {
     "data": {
      "text/plain": [
       "164579189.5213265"
      ]
     },
     "execution_count": 77,
     "metadata": {},
     "output_type": "execute_result"
    }
   ],
   "source": [
    "var_bmi_above_25 = np.var(df[df[\"bmi\"] > 25][\"charges\"])\n",
    "var_bmi_above_25"
   ]
  },
  {
   "cell_type": "code",
   "execution_count": 78,
   "id": "0c1189e1",
   "metadata": {},
   "outputs": [
    {
     "data": {
      "text/plain": [
       "56326859.63068615"
      ]
     },
     "execution_count": 78,
     "metadata": {},
     "output_type": "execute_result"
    }
   ],
   "source": [
    "var_bmi_less_25 = np.var(df[df[\"bmi\"] < 25][\"charges\"])\n",
    "var_bmi_less_25"
   ]
  },
  {
   "cell_type": "markdown",
   "id": "bd406778",
   "metadata": {},
   "source": [
    "Jika hipotesis yang akan kita uji adalah:\n",
    "$$H_0: \\mu_{bmi>25} \\leq \\mu_{bmi<25}$$\n",
    "$$H_1: \\mu_{bmi>25} > \\mu_{bmi<25}$$"
   ]
  },
  {
   "attachments": {
    "image.png": {
     "image/png": "[encoded data removed]"
    }
   },
   "cell_type": "markdown",
   "id": "3c70f40d",
   "metadata": {},
   "source": [
    "![image.png](attachment:image.png)"
   ]
  },
  {
   "cell_type": "code",
   "execution_count": 79,
   "id": "40c9f8fd",
   "metadata": {},
   "outputs": [
    {
     "name": "stdout",
     "output_type": "stream",
     "text": [
      "-1.6462514928708314\n"
     ]
    }
   ],
   "source": [
    "from scipy.stats import t\n",
    "t_crit = t.ppf(alpha,df=n_bmi_above_25-1)\n",
    "print(t_crit)"
   ]
  },
  {
   "cell_type": "code",
   "execution_count": 80,
   "id": "c29c0ac8",
   "metadata": {},
   "outputs": [
    {
     "name": "stdout",
     "output_type": "stream",
     "text": [
      "t-test = 5.9299, p-value = 1.0000\n"
     ]
    }
   ],
   "source": [
    "from scipy.stats import ttest_ind\n",
    "\n",
    "stat, p = ttest_ind(a = df[df[\"bmi\"] > 25][\"charges\"], b = df[df[\"bmi\"] < 25][\"charges\"], equal_var=False, alternative='less') # eaual_var= False karena varians kedua populasi berbeda\n",
    "\n",
    "# Interpretasi Hasil\n",
    "print('t-test = %.4f, p-value = %.4f' % (stat, p)) "
   ]
  },
  {
   "cell_type": "code",
   "execution_count": 81,
   "id": "af80d087",
   "metadata": {},
   "outputs": [
    {
     "name": "stdout",
     "output_type": "stream",
     "text": [
      "Two group means are equal (Gagal tolak H0)\n"
     ]
    }
   ],
   "source": [
    "alpha = 0.05\n",
    "# Pengambilan Keputusan\n",
    "if p > alpha:\n",
    "    print('Two group means are equal (Gagal tolak H0)') \n",
    "else:\n",
    "    print('Two group means are different (Tolak H0)')"
   ]
  },
  {
   "cell_type": "markdown",
   "id": "b1d53552",
   "metadata": {},
   "source": [
    "3. Uji: Tagihan Laki-Laki Lebih Besar dari Tagihan Perempuan"
   ]
  },
  {
   "cell_type": "markdown",
   "id": "5498396d",
   "metadata": {},
   "source": [
    "TOTAL Laki-Laki VS TOTAL Perempuan "
   ]
  },
  {
   "cell_type": "code",
   "execution_count": 84,
   "id": "a0b70d88",
   "metadata": {
    "scrolled": true
   },
   "outputs": [
    {
     "data": {
      "text/plain": [
       "676"
      ]
     },
     "execution_count": 84,
     "metadata": {},
     "output_type": "execute_result"
    }
   ],
   "source": [
    "n_male = df[df[\"sex\"] == \"male\"][\"charges\"].count() \n",
    "n_male"
   ]
  },
  {
   "cell_type": "code",
   "execution_count": 85,
   "id": "dc47c1b1",
   "metadata": {},
   "outputs": [
    {
     "data": {
      "text/plain": [
       "662"
      ]
     },
     "execution_count": 85,
     "metadata": {},
     "output_type": "execute_result"
    }
   ],
   "source": [
    "n_female = df[df[\"sex\"] == \"female\"][\"charges\"].count() \n",
    "n_female"
   ]
  },
  {
   "cell_type": "markdown",
   "id": "95094000",
   "metadata": {},
   "source": [
    "MEAN Laki-laki  VS MEAN Perempuan"
   ]
  },
  {
   "cell_type": "code",
   "execution_count": 87,
   "id": "f388312e",
   "metadata": {},
   "outputs": [
    {
     "data": {
      "text/plain": [
       "13956.751177721886"
      ]
     },
     "execution_count": 87,
     "metadata": {},
     "output_type": "execute_result"
    }
   ],
   "source": [
    "mean_male = df[df[\"sex\"] == \"male\"][\"charges\"].mean() \n",
    "mean_male"
   ]
  },
  {
   "cell_type": "code",
   "execution_count": 88,
   "id": "ca7ef465",
   "metadata": {},
   "outputs": [
    {
     "data": {
      "text/plain": [
       "12569.57884383534"
      ]
     },
     "execution_count": 88,
     "metadata": {},
     "output_type": "execute_result"
    }
   ],
   "source": [
    "mean_female = df[df[\"sex\"] == \"female\"][\"charges\"].mean() \n",
    "mean_female"
   ]
  },
  {
   "cell_type": "markdown",
   "id": "36a42dd5",
   "metadata": {},
   "source": [
    "VARIANCE Laki-laki VS VARIANCE perempuan"
   ]
  },
  {
   "cell_type": "code",
   "execution_count": 90,
   "id": "079d2c64",
   "metadata": {},
   "outputs": [
    {
     "data": {
      "text/plain": [
       "167998626.4342233"
      ]
     },
     "execution_count": 90,
     "metadata": {},
     "output_type": "execute_result"
    }
   ],
   "source": [
    "var_male = np.var(df[df[\"sex\"] == \"male\"][\"charges\"])\n",
    "var_male"
   ]
  },
  {
   "cell_type": "code",
   "execution_count": 91,
   "id": "caaf1c6a",
   "metadata": {},
   "outputs": [
    {
     "data": {
      "text/plain": [
       "123660966.64456923"
      ]
     },
     "execution_count": 91,
     "metadata": {},
     "output_type": "execute_result"
    }
   ],
   "source": [
    "var_female = np.var(df[df[\"sex\"] == \"female\"][\"charges\"])\n",
    "var_female"
   ]
  },
  {
   "cell_type": "markdown",
   "id": "6fb9a1c8",
   "metadata": {},
   "source": [
    "Jika hipotesis yang akan kita uji adalah:\n",
    "$$H_0: \\mu_{male} \\leq \\mu_{female}$$\n",
    "$$H_1: \\mu_{male} > \\mu_{female}$$"
   ]
  },
  {
   "attachments": {
    "image.png": {
     "image/png": "[encoded data removed]"
    }
   },
   "cell_type": "markdown",
   "id": "85ddd169",
   "metadata": {},
   "source": [
    "![image.png](attachment:image.png)"
   ]
  },
  {
   "cell_type": "code",
   "execution_count": 92,
   "id": "4035c071",
   "metadata": {},
   "outputs": [
    {
     "name": "stdout",
     "output_type": "stream",
     "text": [
      "-1.6471141829675953\n"
     ]
    }
   ],
   "source": [
    "from scipy.stats import t\n",
    "t_crit = t.ppf(alpha,df=n_male-1)\n",
    "print(t_crit)"
   ]
  },
  {
   "cell_type": "code",
   "execution_count": 93,
   "id": "2c4aa32d",
   "metadata": {},
   "outputs": [
    {
     "name": "stdout",
     "output_type": "stream",
     "text": [
      "t-test = 2.1009, p-value = 0.9821\n"
     ]
    }
   ],
   "source": [
    "from scipy.stats import ttest_ind\n",
    "\n",
    "stat, p = ttest_ind(a = df[df[\"sex\"] == \"male\"][\"charges\"], b = df[df[\"sex\"] == \"female\"][\"charges\"], equal_var=False, alternative='less') # eaual_var= False karena varians kedua populasi berbeda\n",
    "\n",
    "# Interpretasi Hasil\n",
    "print('t-test = %.4f, p-value = %.4f' % (stat, p)) "
   ]
  },
  {
   "cell_type": "code",
   "execution_count": 94,
   "id": "0dfa4903",
   "metadata": {},
   "outputs": [
    {
     "name": "stdout",
     "output_type": "stream",
     "text": [
      "Two group means are equal (Gagal tolak H0)\n"
     ]
    }
   ],
   "source": [
    "alpha = 0.05\n",
    "# Pengambilan Keputusan\n",
    "if p > alpha:\n",
    "    print('Two group means are equal (Gagal tolak H0)') \n",
    "else:\n",
    "    print('Two group means are different (Tolak H0)')"
   ]
  },
  {
   "cell_type": "code",
   "execution_count": null,
   "id": "88c750d6",
   "metadata": {},
   "outputs": [],
   "source": []
  },
  {
   "cell_type": "code",
   "execution_count": null,
   "id": "1f3251c5",
   "metadata": {},
   "outputs": [],
   "source": []
  }
 ],
 "metadata": {
  "kernelspec": {
   "display_name": "Python 3 (ipykernel)",
   "language": "python",
   "name": "python3"
  },
  "language_info": {
   "codemirror_mode": {
    "name": "ipython",
    "version": 3
   },
   "file_extension": ".py",
   "mimetype": "text/x-python",
   "name": "python",
   "nbconvert_exporter": "python",
   "pygments_lexer": "ipython3",
   "version": "3.9.7"
  }
 },
 "nbformat": 4,
 "nbformat_minor": 5
}
